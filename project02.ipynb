{
 "cells": [
  {
   "cell_type": "code",
   "execution_count": null,
   "metadata": {},
   "outputs": [],
   "source": [
    "import numpy as np\n",
    "import scipy.io\n",
    "from sklearn import svm\n",
    "from sklearn.linear_model import LogisticRegression\n",
    "from sklearn.model_selection import train_test_split, cross_validate, KFold, GridSearchCV\n",
    "from sklearn import metrics\n",
    "from sklearn.discriminant_analysis import LinearDiscriminantAnalysis\n",
    "\n",
    "import functions as F\n",
    "\n",
    "import xgboost as xgb\n",
    "\n",
    "import matplotlib.pyplot as plt\n"
   ]
  },
  {
   "cell_type": "markdown",
   "metadata": {},
   "source": [
    "Loading mat File"
   ]
  },
  {
   "cell_type": "code",
   "execution_count": null,
   "metadata": {},
   "outputs": [],
   "source": [
    "# mat_file_path = './results/results_CSSP_tau5.mat'\n",
    "mat_file_path = './results/results_CSSP_tau15.mat'\n",
    "\n",
    "data = scipy.io.loadmat(mat_file_path)\n",
    "cell_array = data['results']\n",
    "mat_file_path = './results/labels.mat'\n",
    "\n",
    "label = scipy.io.loadmat(mat_file_path)\n",
    "label = label[\"Label\"].reshape(-1)\n",
    "print(f\"Cell array input structure: {cell_array.shape} which has 3 sub structure and 10 models.\")"
   ]
  },
  {
   "cell_type": "code",
   "execution_count": null,
   "metadata": {},
   "outputs": [],
   "source": [
    "for mdl in range(cell_array.shape[1]):\n",
    "    print(f\"mdl variable number is:{mdl}\")\n",
    "    dataset = cell_array[1,mdl]\n",
    "    print(f\"Dataset shape is: {dataset.shape} and label is: {label.shape} and type of the var is: {type(label)}\")\n",
    "\n"
   ]
  },
  {
   "cell_type": "code",
   "execution_count": null,
   "metadata": {},
   "outputs": [],
   "source": [
    "models = {\n",
    "    \"SVM_linear\" : svm.SVC(kernel=\"linear\"),\n",
    "    \"SVM_rbf\" : svm.SVC(kernel=\"rbf\"),\n",
    "    \"LogisticReg\" : LogisticRegression(),\n",
    "    \"XGboost\" : xgb.XGBClassifier(),\n",
    "    \"LDA\": LinearDiscriminantAnalysis()\n",
    "}\n",
    "\n",
    "print(type(models))\n",
    "print(models.keys())\n",
    "\n",
    "k = 10\n",
    "kf = KFold(n_splits=k)\n",
    "\n",
    "scoring = {'accuracy':metrics.make_scorer(metrics.accuracy_score),\n",
    "           'precision':metrics.make_scorer(metrics.precision_score),\n",
    "           'recall':metrics.make_scorer(metrics.recall_score),\n",
    "           'f1_score':metrics.make_scorer(metrics.f1_score)}\n",
    "\n",
    "\n",
    "results_performance = {}\n",
    "# results_accuracy = {}\n",
    "\n",
    "results_accuracy = {name: [] for name in models.keys()}\n",
    "\n",
    "for mdl in range(cell_array.shape[1]):\n",
    "    dataset = cell_array[0,mdl]\n",
    "    print(f\"Dataset shape is: {dataset.shape} and label is: {label.shape} and type of the var is: {type(label)}\")\n",
    "    for name, model in models.items():\n",
    "        scores = cross_validate(model, dataset, label, cv=kf, scoring=scoring, n_jobs=-1)\n",
    "\n",
    "        result_name = f\"model_{mdl+1}_{name}\"\n",
    "\n",
    "        print(result_name)\n",
    "        results_performance[result_name] = scores\n",
    "        results_accuracy[name].append(np.mean(scores['test_accuracy']))\n",
    "        \n"
   ]
  },
  {
   "cell_type": "code",
   "execution_count": null,
   "metadata": {},
   "outputs": [],
   "source": [
    "# print(scores.keys())\n",
    "# print(results_performance.keys())\n",
    "\n",
    "print(results_accuracy.keys())\n",
    "a = np.array(results_accuracy['SVM_linear'])\n",
    "print(type(a))\n",
    "print(a.shape)"
   ]
  },
  {
   "cell_type": "code",
   "execution_count": null,
   "metadata": {},
   "outputs": [],
   "source": [
    "# Generate some data\n",
    "x = np.linspace(2, 20, num=10)\n",
    "# x = np.arange(2,22,2)\n",
    "print(x)\n",
    "# Plot the data\n",
    "plt.figure(figsize=(8, 6))  # Set the figure size\n",
    "\n",
    "for model,accuracies in results_accuracy.items():\n",
    "    # print(type(accuracies))\n",
    "    # print(len(accuracies))\n",
    "    accuracies = np.array(accuracies)*100\n",
    "    plt.plot(x,accuracies,label=model, marker='o', linestyle='-')\n",
    "\n",
    "# Add labels and title\n",
    "plt.xlabel('Number of Features')  # x-axis label\n",
    "plt.ylabel('Accuracy (%)')  # y-axis label\n",
    "plt.title('Accuracy for features')  # Plot title\n",
    "\n",
    "# Add legend\n",
    "plt.legend(loc='upper left')  # Display legend in upper right corner\n",
    "\n",
    "# # Customize ticks\n",
    "plt.xticks(np.arange(2, 22, 2))  # Set x-axis ticks from 0 to 10 in steps of 1\n",
    "# plt.yticks(np.arange(-1, 1.5, 0.5))  # Set y-axis ticks from -1 to 1.5 in steps of 0.5\n",
    "\n",
    "# Add grid\n",
    "plt.grid(True)\n",
    "\n",
    "# Show plot\n",
    "plt.show()"
   ]
  }
 ],
 "metadata": {
  "kernelspec": {
   "display_name": "base",
   "language": "python",
   "name": "python3"
  },
  "language_info": {
   "codemirror_mode": {
    "name": "ipython",
    "version": 3
   },
   "file_extension": ".py",
   "mimetype": "text/x-python",
   "name": "python",
   "nbconvert_exporter": "python",
   "pygments_lexer": "ipython3",
   "version": "3.11.5"
  }
 },
 "nbformat": 4,
 "nbformat_minor": 2
}
