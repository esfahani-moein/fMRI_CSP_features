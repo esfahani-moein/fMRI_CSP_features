{
 "cells": [
  {
   "cell_type": "code",
   "execution_count": 1,
   "metadata": {},
   "outputs": [],
   "source": [
    "import numpy as np\n",
    "import scipy.io\n",
    "from sklearn import svm\n",
    "from sklearn.linear_model import LogisticRegression\n",
    "from sklearn.model_selection import train_test_split, cross_validate, KFold, GridSearchCV\n",
    "from sklearn import metrics\n",
    "\n",
    "import functions as F\n",
    "\n",
    "import xgboost as xgb\n",
    "import lightgbm as lgb\n"
   ]
  },
  {
   "cell_type": "markdown",
   "metadata": {},
   "source": [
    "Loading mat File"
   ]
  },
  {
   "cell_type": "code",
   "execution_count": 2,
   "metadata": {},
   "outputs": [],
   "source": [
    "mat_file_path = './results/results_CSP.mat'\n",
    "\n",
    "data = scipy.io.loadmat(mat_file_path)\n",
    "\n",
    "cell_array = data['results']\n",
    "\n",
    "mat_file_path = './results/labels.mat'\n",
    "\n",
    "label = scipy.io.loadmat(mat_file_path)\n",
    "label = label[\"Label\"].reshape(-1)\n"
   ]
  },
  {
   "cell_type": "code",
   "execution_count": 3,
   "metadata": {},
   "outputs": [
    {
     "name": "stdout",
     "output_type": "stream",
     "text": [
      "10\n",
      "10\n",
      "(3, 10)\n"
     ]
    }
   ],
   "source": [
    "print(len(cell_array[0]))\n",
    "print(len(cell_array[1]))\n",
    "print(cell_array.shape)"
   ]
  },
  {
   "cell_type": "code",
   "execution_count": 4,
   "metadata": {},
   "outputs": [
    {
     "name": "stdout",
     "output_type": "stream",
     "text": [
      "(314, 4)\n",
      "(314,)\n",
      "<class 'numpy.ndarray'>\n"
     ]
    }
   ],
   "source": [
    "dataset = cell_array[1,1]\n",
    "print(dataset.shape)\n",
    "print(label.shape)\n",
    "print(type(label))"
   ]
  },
  {
   "cell_type": "code",
   "execution_count": null,
   "metadata": {},
   "outputs": [],
   "source": [
    "x_train, x_test, y_train, y_test = train_test_split(dataset, label, test_size=0.2, random_state=20)\n",
    "\n",
    "print(x_train.shape)\n",
    "print(x_test.shape)\n",
    "print(y_test.shape)\n",
    "print(type(x_train))\n",
    "\n",
    "clf = svm.SVC()\n",
    "clf.fit(x_train, y_train)\n",
    "\n",
    "y_pred = clf.predict(x_test)\n",
    "print(y_pred.shape)\n",
    "print(type(y_pred))\n",
    "\n",
    "# metrics\n",
    "accuracy = metrics.accuracy_score(y_test,y_pred)\n",
    "print(f\"Accuracy: {accuracy}\")\n",
    "\n",
    "precision, recall, f1, _ = metrics.precision_recall_fscore_support(y_test,y_pred, average='macro')\n",
    "print(f\"Precision: {precision}\")\n",
    "print(f\"Recall: {recall}\")\n",
    "print(f\"F1_score: {f1}\")\n",
    "\n",
    "Confusion_matrix = metrics.confusion_matrix(y_test,y_pred)\n",
    "print(f\"Confusion Matrix:\\n {Confusion_matrix}\")\n"
   ]
  },
  {
   "cell_type": "code",
   "execution_count": null,
   "metadata": {},
   "outputs": [],
   "source": [
    "F.calc_metrics()\n",
    "\n",
    "F.classification_metrics(5,4)"
   ]
  },
  {
   "cell_type": "code",
   "execution_count": 5,
   "metadata": {},
   "outputs": [
    {
     "ename": "NameError",
     "evalue": "name 'x_train' is not defined",
     "output_type": "error",
     "traceback": [
      "\u001b[1;31m---------------------------------------------------------------------------\u001b[0m",
      "\u001b[1;31mNameError\u001b[0m                                 Traceback (most recent call last)",
      "Cell \u001b[1;32mIn[5], line 3\u001b[0m\n\u001b[0;32m      1\u001b[0m clf \u001b[38;5;241m=\u001b[39m LogisticRegression()\n\u001b[1;32m----> 3\u001b[0m clf\u001b[38;5;241m.\u001b[39mfit(x_train,y_train)\n\u001b[0;32m      4\u001b[0m y_pred \u001b[38;5;241m=\u001b[39m clf\u001b[38;5;241m.\u001b[39mpredict(x_test)\n\u001b[0;32m      6\u001b[0m \u001b[38;5;66;03m# metrics\u001b[39;00m\n",
      "\u001b[1;31mNameError\u001b[0m: name 'x_train' is not defined"
     ]
    }
   ],
   "source": [
    "clf = LogisticRegression()\n",
    "\n",
    "clf.fit(x_train,y_train)\n",
    "y_pred = clf.predict(x_test)\n",
    "\n",
    "# metrics\n",
    "accuracy = metrics.accuracy_score(y_test,y_pred)\n",
    "print(f\"Accuracy: {accuracy}\")\n",
    "\n",
    "precision, recall, f1, _ = metrics.precision_recall_fscore_support(y_test,y_pred, average='macro')\n",
    "print(f\"Precision: {precision}\")\n",
    "print(f\"Recall: {recall}\")\n",
    "print(f\"F1_score: {f1}\")\n",
    "\n",
    "Confusion_matrix = metrics.confusion_matrix(y_test,y_pred)\n",
    "print(f\"Confusion Matrix:\\n {Confusion_matrix}\")\n"
   ]
  },
  {
   "cell_type": "code",
   "execution_count": null,
   "metadata": {},
   "outputs": [],
   "source": [
    "# Create a XGBoost classifier\n",
    "clf = xgb.XGBClassifier()\n",
    "\n",
    "# Train the model using the training sets\n",
    "clf.fit(x_train, y_train)\n",
    "\n",
    "# Predict the response for the test dataset\n",
    "y_pred = clf.predict(x_test)\n",
    "\n",
    "# metrics\n",
    "accuracy = metrics.accuracy_score(y_test,y_pred)\n",
    "print(f\"Accuracy: {accuracy}\")\n",
    "\n",
    "precision, recall, f1, _ = metrics.precision_recall_fscore_support(y_test,y_pred, average='macro')\n",
    "print(f\"Precision: {precision}\")\n",
    "print(f\"Recall: {recall}\")\n",
    "print(f\"F1_score: {f1}\")\n",
    "\n",
    "Confusion_matrix = metrics.confusion_matrix(y_test,y_pred)\n",
    "print(f\"Confusion Matrix:\\n {Confusion_matrix}\")\n"
   ]
  },
  {
   "cell_type": "code",
   "execution_count": null,
   "metadata": {},
   "outputs": [],
   "source": [
    "# Create a LightGBM classifier\n",
    "clf = lgb.LGBMClassifier()\n",
    "\n",
    "# Train the model using the training sets\n",
    "clf.fit(x_train, y_train)\n",
    "\n",
    "# Predict the response for the test dataset\n",
    "y_pred = clf.predict(x_test)\n",
    "\n",
    "# metrics\n",
    "accuracy = metrics.accuracy_score(y_test,y_pred)\n",
    "print(f\"Accuracy: {accuracy}\")\n",
    "\n",
    "precision, recall, f1, _ = metrics.precision_recall_fscore_support(y_test,y_pred, average='macro')\n",
    "print(f\"Precision: {precision}\")\n",
    "print(f\"Recall: {recall}\")\n",
    "print(f\"F1_score: {f1}\")\n",
    "\n",
    "Confusion_matrix = metrics.confusion_matrix(y_test,y_pred)\n",
    "print(f\"Confusion Matrix:\\n {Confusion_matrix}\")\n"
   ]
  },
  {
   "cell_type": "code",
   "execution_count": 9,
   "metadata": {},
   "outputs": [
    {
     "name": "stdout",
     "output_type": "stream",
     "text": [
      "Average fit_time across 10-folds: 0.004075980186462403\n",
      "Average score_time across 10-folds: 0.005634856224060058\n",
      "Average test_accuracy across 10-folds: 0.8154233870967742\n",
      "Average test_precision across 10-folds: 0.8227193149987269\n",
      "Average test_recall across 10-folds: 0.7965338827838828\n",
      "Average test_f1_score across 10-folds: 0.8029746823336923\n"
     ]
    }
   ],
   "source": [
    "\n",
    "\n",
    "# clf = svm.SVC(kernel=\"poly\",degree=5)\n",
    "clf = svm.SVC(kernel=\"linear\")\n",
    "\n",
    "k = 10\n",
    "kf = KFold(n_splits=k)\n",
    "\n",
    "scoring = {'accuracy':metrics.make_scorer(metrics.accuracy_score),\n",
    "           'precision':metrics.make_scorer(metrics.precision_score),\n",
    "           'recall':metrics.make_scorer(metrics.recall_score),\n",
    "           'f1_score':metrics.make_scorer(metrics.f1_score)}\n",
    "\n",
    "scores = cross_validate(clf, dataset, label, cv=kf, scoring=scoring, n_jobs=-1)\n",
    "\n",
    "for metric in scores.keys():\n",
    "    print(f\"Average {metric} across {k}-folds: {np.mean(scores[metric])}\")\n"
   ]
  },
  {
   "cell_type": "code",
   "execution_count": 10,
   "metadata": {},
   "outputs": [
    {
     "name": "stdout",
     "output_type": "stream",
     "text": [
      "dict_keys(['fit_time', 'score_time', 'test_accuracy', 'test_precision', 'test_recall', 'test_f1_score'])\n",
      "[0.78125    0.84375    0.8125     0.78125    0.74193548 0.80645161\n",
      " 0.83870968 0.90322581 0.77419355 0.87096774]\n"
     ]
    }
   ],
   "source": [
    "print(scores.keys())\n",
    "print(scores['test_accuracy'])"
   ]
  },
  {
   "cell_type": "code",
   "execution_count": null,
   "metadata": {},
   "outputs": [],
   "source": [
    "param_grid = {'C': [0.1, 1, 10, 100, 1000], \n",
    "              'gamma': [1, 0.1, 0.01, 0.001, 0.0001],\n",
    "              'kernel': ['rbf',]} \n"
   ]
  }
 ],
 "metadata": {
  "kernelspec": {
   "display_name": "base",
   "language": "python",
   "name": "python3"
  },
  "language_info": {
   "codemirror_mode": {
    "name": "ipython",
    "version": 3
   },
   "file_extension": ".py",
   "mimetype": "text/x-python",
   "name": "python",
   "nbconvert_exporter": "python",
   "pygments_lexer": "ipython3",
   "version": "3.11.5"
  }
 },
 "nbformat": 4,
 "nbformat_minor": 2
}
